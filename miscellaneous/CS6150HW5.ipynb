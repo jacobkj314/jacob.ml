{
 "cells": [
  {
   "cell_type": "code",
   "execution_count": 6,
   "metadata": {},
   "outputs": [],
   "source": [
    "def mean(A):\n",
    "    return sum(A) / len(A)"
   ]
  },
  {
   "cell_type": "markdown",
   "metadata": {},
   "source": [
    "# Q2c"
   ]
  },
  {
   "cell_type": "code",
   "execution_count": 1,
   "metadata": {},
   "outputs": [],
   "source": [
    "from random import choice"
   ]
  },
  {
   "cell_type": "code",
   "execution_count": 3,
   "metadata": {},
   "outputs": [],
   "source": [
    "def step():\n",
    "    return 1 if choice([True, False]) else -1"
   ]
  },
  {
   "cell_type": "code",
   "execution_count": 4,
   "metadata": {},
   "outputs": [],
   "source": [
    "def sample(num_steps):\n",
    "    x = 0\n",
    "    num_crosses = 0\n",
    "    for _ in range(num_steps):\n",
    "        x += step()\n",
    "        num_crosses += 1 if x==0 else 0\n",
    "    return num_crosses"
   ]
  },
  {
   "cell_type": "code",
   "execution_count": 9,
   "metadata": {},
   "outputs": [],
   "source": [
    "def experiment(num_steps):\n",
    "    return mean([sample(num_steps) for _ in range(50)])"
   ]
  },
  {
   "cell_type": "code",
   "execution_count": 10,
   "metadata": {},
   "outputs": [
    {
     "name": "stdout",
     "output_type": "stream",
     "text": [
      "150.2\n",
      "219.62\n",
      "315.64\n"
     ]
    }
   ],
   "source": [
    "for num_steps in (4e4, 9e4, 16e4):\n",
    "    print(experiment(int(num_steps)))"
   ]
  },
  {
   "cell_type": "markdown",
   "metadata": {},
   "source": [
    "# Q3"
   ]
  },
  {
   "cell_type": "code",
   "execution_count": 1,
   "metadata": {},
   "outputs": [],
   "source": [
    "from random import shuffle"
   ]
  },
  {
   "cell_type": "code",
   "execution_count": 2,
   "metadata": {},
   "outputs": [],
   "source": [
    "def population():\n",
    "    return [-1] * int(.48 * 1_000_000) + [1] * int(.52 * 1_000_000)"
   ]
  },
  {
   "cell_type": "code",
   "execution_count": 3,
   "metadata": {},
   "outputs": [],
   "source": [
    "def sample(n):\n",
    "    p = population()\n",
    "    shuffle(p)\n",
    "    return p[:n]"
   ]
  },
  {
   "cell_type": "code",
   "execution_count": 4,
   "metadata": {},
   "outputs": [],
   "source": [
    "def experiment(n):\n",
    "    return mean([1 if mean(sample(n)) > 0 else 0 for _ in range(100)])"
   ]
  },
  {
   "cell_type": "code",
   "execution_count": 21,
   "metadata": {},
   "outputs": [
    {
     "name": "stdout",
     "output_type": "stream",
     "text": [
      "0.45\n",
      "0.52\n",
      "0.74\n"
     ]
    }
   ],
   "source": [
    "for n in (20, 100, 400):\n",
    "    print(experiment(n))"
   ]
  },
  {
   "cell_type": "code",
   "execution_count": 7,
   "metadata": {},
   "outputs": [
    {
     "name": "stdout",
     "output_type": "stream",
     "text": [
      "The lowest value of `n` for which +1 won in >= 90% of trials was: 1000\n"
     ]
    }
   ],
   "source": [
    "n = 450\n",
    "found = False\n",
    "\n",
    "while not found:\n",
    "    p = experiment(n)\n",
    "    if p > .9:\n",
    "        found = True\n",
    "    else:\n",
    "        n += 50\n",
    "\n",
    "print(f\"The lowest value of `n` for which +1 won in >= 90% of trials was: {n}\")"
   ]
  }
 ],
 "metadata": {
  "kernelspec": {
   "display_name": "38b",
   "language": "python",
   "name": "python3"
  },
  "language_info": {
   "codemirror_mode": {
    "name": "ipython",
    "version": 3
   },
   "file_extension": ".py",
   "mimetype": "text/x-python",
   "name": "python",
   "nbconvert_exporter": "python",
   "pygments_lexer": "ipython3",
   "version": "3.10.12"
  }
 },
 "nbformat": 4,
 "nbformat_minor": 2
}
